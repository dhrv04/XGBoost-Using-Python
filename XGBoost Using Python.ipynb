{
 "cells": [
  {
   "cell_type": "markdown",
   "metadata": {},
   "source": [
    "# Getting started with XGBoost "
   ]
  },
  {
   "cell_type": "markdown",
   "metadata": {},
   "source": [
    "## Installing XGBoost\n",
    "\n",
    "    Run this on conda run\n",
    "    \n",
    "conda install -c anaconda py-xgboost"
   ]
  },
  {
   "cell_type": "code",
   "execution_count": 1,
   "metadata": {},
   "outputs": [],
   "source": [
    "import xgboost"
   ]
  },
  {
   "cell_type": "markdown",
   "metadata": {},
   "source": [
    "    Here for describing the implementation, I will use the pima-indians-diabetes.csv dataset from UCL Machine \n",
    "    Learning Repository."
   ]
  },
  {
   "cell_type": "markdown",
   "metadata": {},
   "source": [
    "## Loading the dataset"
   ]
  },
  {
   "cell_type": "code",
   "execution_count": 2,
   "metadata": {},
   "outputs": [],
   "source": [
    "import pandas as pd\n",
    "import numpy as np"
   ]
  },
  {
   "cell_type": "code",
   "execution_count": 3,
   "metadata": {},
   "outputs": [],
   "source": [
    "data = pd.read_csv('diabetes.csv')"
   ]
  },
  {
   "cell_type": "code",
   "execution_count": 4,
   "metadata": {},
   "outputs": [
    {
     "data": {
      "text/html": [
       "<div>\n",
       "<style scoped>\n",
       "    .dataframe tbody tr th:only-of-type {\n",
       "        vertical-align: middle;\n",
       "    }\n",
       "\n",
       "    .dataframe tbody tr th {\n",
       "        vertical-align: top;\n",
       "    }\n",
       "\n",
       "    .dataframe thead th {\n",
       "        text-align: right;\n",
       "    }\n",
       "</style>\n",
       "<table border=\"1\" class=\"dataframe\">\n",
       "  <thead>\n",
       "    <tr style=\"text-align: right;\">\n",
       "      <th></th>\n",
       "      <th>Pregnancies</th>\n",
       "      <th>Glucose</th>\n",
       "      <th>BloodPressure</th>\n",
       "      <th>SkinThickness</th>\n",
       "      <th>Insulin</th>\n",
       "      <th>BMI</th>\n",
       "      <th>DiabetesPedigreeFunction</th>\n",
       "      <th>Age</th>\n",
       "      <th>Outcome</th>\n",
       "    </tr>\n",
       "  </thead>\n",
       "  <tbody>\n",
       "    <tr>\n",
       "      <th>0</th>\n",
       "      <td>6</td>\n",
       "      <td>148</td>\n",
       "      <td>72</td>\n",
       "      <td>35</td>\n",
       "      <td>0</td>\n",
       "      <td>33.6</td>\n",
       "      <td>0.627</td>\n",
       "      <td>50</td>\n",
       "      <td>1</td>\n",
       "    </tr>\n",
       "    <tr>\n",
       "      <th>1</th>\n",
       "      <td>1</td>\n",
       "      <td>85</td>\n",
       "      <td>66</td>\n",
       "      <td>29</td>\n",
       "      <td>0</td>\n",
       "      <td>26.6</td>\n",
       "      <td>0.351</td>\n",
       "      <td>31</td>\n",
       "      <td>0</td>\n",
       "    </tr>\n",
       "    <tr>\n",
       "      <th>2</th>\n",
       "      <td>8</td>\n",
       "      <td>183</td>\n",
       "      <td>64</td>\n",
       "      <td>0</td>\n",
       "      <td>0</td>\n",
       "      <td>23.3</td>\n",
       "      <td>0.672</td>\n",
       "      <td>32</td>\n",
       "      <td>1</td>\n",
       "    </tr>\n",
       "    <tr>\n",
       "      <th>3</th>\n",
       "      <td>1</td>\n",
       "      <td>89</td>\n",
       "      <td>66</td>\n",
       "      <td>23</td>\n",
       "      <td>94</td>\n",
       "      <td>28.1</td>\n",
       "      <td>0.167</td>\n",
       "      <td>21</td>\n",
       "      <td>0</td>\n",
       "    </tr>\n",
       "    <tr>\n",
       "      <th>4</th>\n",
       "      <td>0</td>\n",
       "      <td>137</td>\n",
       "      <td>40</td>\n",
       "      <td>35</td>\n",
       "      <td>168</td>\n",
       "      <td>43.1</td>\n",
       "      <td>2.288</td>\n",
       "      <td>33</td>\n",
       "      <td>1</td>\n",
       "    </tr>\n",
       "  </tbody>\n",
       "</table>\n",
       "</div>"
      ],
      "text/plain": [
       "   Pregnancies  Glucose  BloodPressure  SkinThickness  Insulin   BMI  \\\n",
       "0            6      148             72             35        0  33.6   \n",
       "1            1       85             66             29        0  26.6   \n",
       "2            8      183             64              0        0  23.3   \n",
       "3            1       89             66             23       94  28.1   \n",
       "4            0      137             40             35      168  43.1   \n",
       "\n",
       "   DiabetesPedigreeFunction  Age  Outcome  \n",
       "0                     0.627   50        1  \n",
       "1                     0.351   31        0  \n",
       "2                     0.672   32        1  \n",
       "3                     0.167   21        0  \n",
       "4                     2.288   33        1  "
      ]
     },
     "execution_count": 4,
     "metadata": {},
     "output_type": "execute_result"
    }
   ],
   "source": [
    "data.head()"
   ]
  },
  {
   "cell_type": "code",
   "execution_count": 5,
   "metadata": {},
   "outputs": [
    {
     "data": {
      "text/plain": [
       "(768, 9)"
      ]
     },
     "execution_count": 5,
     "metadata": {},
     "output_type": "execute_result"
    }
   ],
   "source": [
    "data.shape"
   ]
  },
  {
   "cell_type": "markdown",
   "metadata": {},
   "source": [
    "## Preparing the data to use the XGBoost Classifier"
   ]
  },
  {
   "cell_type": "code",
   "execution_count": 6,
   "metadata": {},
   "outputs": [],
   "source": [
    "# Preparing the feature and the response part of the dataframe\n",
    "\n",
    "X = data.iloc[:,:-1]\n",
    "y = data['Outcome']"
   ]
  },
  {
   "cell_type": "code",
   "execution_count": 7,
   "metadata": {},
   "outputs": [],
   "source": [
    "# Splitting the data into training and testing data using sckit learn\n",
    "\n",
    "from sklearn.model_selection import train_test_split\n",
    "\n",
    "# Setting the value of seed for the random number generator so that we always get the same split data when we...\n",
    "# ...always execute the code\n",
    "\n",
    "seed = 10\n",
    "\n",
    "X_train, X_test, y_train, y_test = train_test_split(X, y, test_size= 0.33, random_state = seed)"
   ]
  },
  {
   "cell_type": "markdown",
   "metadata": {},
   "source": [
    "## Training the XGBoost Model"
   ]
  },
  {
   "cell_type": "code",
   "execution_count": 8,
   "metadata": {},
   "outputs": [],
   "source": [
    "from xgboost import XGBClassifier"
   ]
  },
  {
   "cell_type": "code",
   "execution_count": 9,
   "metadata": {},
   "outputs": [],
   "source": [
    "model = XGBClassifier()"
   ]
  },
  {
   "cell_type": "code",
   "execution_count": 10,
   "metadata": {},
   "outputs": [
    {
     "data": {
      "text/plain": [
       "XGBClassifier()"
      ]
     },
     "execution_count": 10,
     "metadata": {},
     "output_type": "execute_result"
    }
   ],
   "source": [
    "model.fit(X_train, y_train)"
   ]
  },
  {
   "cell_type": "markdown",
   "metadata": {},
   "source": [
    "## Making Predictions Using the Model"
   ]
  },
  {
   "cell_type": "code",
   "execution_count": 11,
   "metadata": {},
   "outputs": [],
   "source": [
    "# Making predictions for the test data\n",
    "\n",
    "predictions = model.predict(X_test)"
   ]
  },
  {
   "cell_type": "markdown",
   "metadata": {},
   "source": [
    "## Evaluating the Model Accuracy"
   ]
  },
  {
   "cell_type": "code",
   "execution_count": 12,
   "metadata": {},
   "outputs": [],
   "source": [
    "from sklearn.metrics import accuracy_score"
   ]
  },
  {
   "cell_type": "code",
   "execution_count": 13,
   "metadata": {},
   "outputs": [],
   "source": [
    "accuracy = accuracy_score(y_test, predictions)"
   ]
  },
  {
   "cell_type": "code",
   "execution_count": 14,
   "metadata": {},
   "outputs": [
    {
     "data": {
      "text/plain": [
       "0.7362204724409449"
      ]
     },
     "execution_count": 14,
     "metadata": {},
     "output_type": "execute_result"
    }
   ],
   "source": [
    "accuracy"
   ]
  },
  {
   "cell_type": "markdown",
   "metadata": {},
   "source": [
    "# Data Preparation for Gradient Boosting"
   ]
  },
  {
   "cell_type": "markdown",
   "metadata": {},
   "source": [
    "    XGBoost represent all problems as a regressive predictive modelling approach that only takes the numerical \n",
    "    values into account, so if our data is in some other form other than numerical then we need to convert it\n",
    "    into the required format as per the XGBoost standard"
   ]
  },
  {
   "cell_type": "code",
   "execution_count": 15,
   "metadata": {},
   "outputs": [],
   "source": [
    "import pandas as pd\n",
    "from sklearn.model_selection import train_test_split\n",
    "from xgboost import XGBClassifier\n",
    "from sklearn.metrics import accuracy_score"
   ]
  },
  {
   "cell_type": "code",
   "execution_count": 16,
   "metadata": {},
   "outputs": [],
   "source": [
    "# To demonstrate this we will use the iris dataset, to label encode the output values of the class of flowers\n",
    "\n",
    "iris_data = pd.read_csv('Iris.csv')"
   ]
  },
  {
   "cell_type": "code",
   "execution_count": 17,
   "metadata": {},
   "outputs": [
    {
     "data": {
      "text/html": [
       "<div>\n",
       "<style scoped>\n",
       "    .dataframe tbody tr th:only-of-type {\n",
       "        vertical-align: middle;\n",
       "    }\n",
       "\n",
       "    .dataframe tbody tr th {\n",
       "        vertical-align: top;\n",
       "    }\n",
       "\n",
       "    .dataframe thead th {\n",
       "        text-align: right;\n",
       "    }\n",
       "</style>\n",
       "<table border=\"1\" class=\"dataframe\">\n",
       "  <thead>\n",
       "    <tr style=\"text-align: right;\">\n",
       "      <th></th>\n",
       "      <th>Id</th>\n",
       "      <th>SepalLengthCm</th>\n",
       "      <th>SepalWidthCm</th>\n",
       "      <th>PetalLengthCm</th>\n",
       "      <th>PetalWidthCm</th>\n",
       "      <th>Species</th>\n",
       "    </tr>\n",
       "  </thead>\n",
       "  <tbody>\n",
       "    <tr>\n",
       "      <th>0</th>\n",
       "      <td>1</td>\n",
       "      <td>5.1</td>\n",
       "      <td>3.5</td>\n",
       "      <td>1.4</td>\n",
       "      <td>0.2</td>\n",
       "      <td>Iris-setosa</td>\n",
       "    </tr>\n",
       "    <tr>\n",
       "      <th>1</th>\n",
       "      <td>2</td>\n",
       "      <td>4.9</td>\n",
       "      <td>3.0</td>\n",
       "      <td>1.4</td>\n",
       "      <td>0.2</td>\n",
       "      <td>Iris-setosa</td>\n",
       "    </tr>\n",
       "    <tr>\n",
       "      <th>2</th>\n",
       "      <td>3</td>\n",
       "      <td>4.7</td>\n",
       "      <td>3.2</td>\n",
       "      <td>1.3</td>\n",
       "      <td>0.2</td>\n",
       "      <td>Iris-setosa</td>\n",
       "    </tr>\n",
       "    <tr>\n",
       "      <th>3</th>\n",
       "      <td>4</td>\n",
       "      <td>4.6</td>\n",
       "      <td>3.1</td>\n",
       "      <td>1.5</td>\n",
       "      <td>0.2</td>\n",
       "      <td>Iris-setosa</td>\n",
       "    </tr>\n",
       "    <tr>\n",
       "      <th>4</th>\n",
       "      <td>5</td>\n",
       "      <td>5.0</td>\n",
       "      <td>3.6</td>\n",
       "      <td>1.4</td>\n",
       "      <td>0.2</td>\n",
       "      <td>Iris-setosa</td>\n",
       "    </tr>\n",
       "  </tbody>\n",
       "</table>\n",
       "</div>"
      ],
      "text/plain": [
       "   Id  SepalLengthCm  SepalWidthCm  PetalLengthCm  PetalWidthCm      Species\n",
       "0   1            5.1           3.5            1.4           0.2  Iris-setosa\n",
       "1   2            4.9           3.0            1.4           0.2  Iris-setosa\n",
       "2   3            4.7           3.2            1.3           0.2  Iris-setosa\n",
       "3   4            4.6           3.1            1.5           0.2  Iris-setosa\n",
       "4   5            5.0           3.6            1.4           0.2  Iris-setosa"
      ]
     },
     "execution_count": 17,
     "metadata": {},
     "output_type": "execute_result"
    }
   ],
   "source": [
    "iris_data.head()"
   ]
  },
  {
   "cell_type": "code",
   "execution_count": 18,
   "metadata": {},
   "outputs": [],
   "source": [
    "# We will first seperate the predictor data from the response data\n",
    "\n",
    "X_iris = iris_data.iloc[:,:-1]\n",
    "y_iris = iris_data['Species']"
   ]
  },
  {
   "cell_type": "code",
   "execution_count": 19,
   "metadata": {},
   "outputs": [],
   "source": [
    "# We will use the scikit learn library's Label Encoder to encode the 'SPECIES' label\n",
    "\n",
    "from sklearn.preprocessing import LabelEncoder\n",
    "\n",
    "# Create the object of Wrapper class Label Encoder\n",
    "label_encoder = LabelEncoder()\n",
    "\n",
    "label_encoder = label_encoder.fit(y_iris)\n",
    "\n",
    "label_encoded_y = label_encoder.transform(y_iris)"
   ]
  },
  {
   "cell_type": "code",
   "execution_count": 20,
   "metadata": {},
   "outputs": [
    {
     "data": {
      "text/plain": [
       "array([0, 0, 0, 0, 0, 0, 0, 0, 0, 0, 0, 0, 0, 0, 0, 0, 0, 0, 0, 0, 0, 0,\n",
       "       0, 0, 0, 0, 0, 0, 0, 0, 0, 0, 0, 0, 0, 0, 0, 0, 0, 0, 0, 0, 0, 0,\n",
       "       0, 0, 0, 0, 0, 0, 1, 1, 1, 1, 1, 1, 1, 1, 1, 1, 1, 1, 1, 1, 1, 1,\n",
       "       1, 1, 1, 1, 1, 1, 1, 1, 1, 1, 1, 1, 1, 1, 1, 1, 1, 1, 1, 1, 1, 1,\n",
       "       1, 1, 1, 1, 1, 1, 1, 1, 1, 1, 1, 1, 2, 2, 2, 2, 2, 2, 2, 2, 2, 2,\n",
       "       2, 2, 2, 2, 2, 2, 2, 2, 2, 2, 2, 2, 2, 2, 2, 2, 2, 2, 2, 2, 2, 2,\n",
       "       2, 2, 2, 2, 2, 2, 2, 2, 2, 2, 2, 2, 2, 2, 2, 2, 2, 2])"
      ]
     },
     "execution_count": 20,
     "metadata": {},
     "output_type": "execute_result"
    }
   ],
   "source": [
    "label_encoded_y"
   ]
  },
  {
   "cell_type": "code",
   "execution_count": 21,
   "metadata": {},
   "outputs": [],
   "source": [
    "# Splitting the data using the train_test_split\n",
    "\n",
    "seed = 7\n",
    "\n",
    "X_train, X_test, y_train, y_test = train_test_split(X_iris, label_encoded_y, test_size = 0.33, random_state=seed)"
   ]
  },
  {
   "cell_type": "code",
   "execution_count": 22,
   "metadata": {},
   "outputs": [],
   "source": [
    "# Training the XGBoost Model\n",
    "\n",
    "model = XGBClassifier()"
   ]
  },
  {
   "cell_type": "code",
   "execution_count": 23,
   "metadata": {},
   "outputs": [
    {
     "data": {
      "text/plain": [
       "XGBClassifier(objective='multi:softprob')"
      ]
     },
     "execution_count": 23,
     "metadata": {},
     "output_type": "execute_result"
    }
   ],
   "source": [
    "model.fit(X_train, y_train)"
   ]
  },
  {
   "cell_type": "code",
   "execution_count": 24,
   "metadata": {},
   "outputs": [],
   "source": [
    "# Now we will make predictions \n",
    "\n",
    "predictions_iris = model.predict(X_test)"
   ]
  },
  {
   "cell_type": "code",
   "execution_count": 25,
   "metadata": {},
   "outputs": [
    {
     "data": {
      "text/plain": [
       "0.98"
      ]
     },
     "execution_count": 25,
     "metadata": {},
     "output_type": "execute_result"
    }
   ],
   "source": [
    "# Checking the accuracy of the model\n",
    "\n",
    "accuracy_score(y_test, predictions_iris)"
   ]
  },
  {
   "cell_type": "code",
   "execution_count": 26,
   "metadata": {},
   "outputs": [],
   "source": [
    "# To show that sometimes that the data itself can contain categorical values we will use the breast cancer dataset\n",
    "\n",
    "cancer_dataset = pd.read_csv('breast-cancer_csv.csv')"
   ]
  },
  {
   "cell_type": "code",
   "execution_count": 27,
   "metadata": {},
   "outputs": [
    {
     "data": {
      "text/html": [
       "<div>\n",
       "<style scoped>\n",
       "    .dataframe tbody tr th:only-of-type {\n",
       "        vertical-align: middle;\n",
       "    }\n",
       "\n",
       "    .dataframe tbody tr th {\n",
       "        vertical-align: top;\n",
       "    }\n",
       "\n",
       "    .dataframe thead th {\n",
       "        text-align: right;\n",
       "    }\n",
       "</style>\n",
       "<table border=\"1\" class=\"dataframe\">\n",
       "  <thead>\n",
       "    <tr style=\"text-align: right;\">\n",
       "      <th></th>\n",
       "      <th>age</th>\n",
       "      <th>menopause</th>\n",
       "      <th>tumor-size</th>\n",
       "      <th>inv-nodes</th>\n",
       "      <th>node-caps</th>\n",
       "      <th>deg-malig</th>\n",
       "      <th>breast</th>\n",
       "      <th>breast-quad</th>\n",
       "      <th>irradiat</th>\n",
       "      <th>Class</th>\n",
       "    </tr>\n",
       "  </thead>\n",
       "  <tbody>\n",
       "    <tr>\n",
       "      <th>0</th>\n",
       "      <td>40-49</td>\n",
       "      <td>premeno</td>\n",
       "      <td>15-19</td>\n",
       "      <td>0-2</td>\n",
       "      <td>yes</td>\n",
       "      <td>3</td>\n",
       "      <td>right</td>\n",
       "      <td>left_up</td>\n",
       "      <td>no</td>\n",
       "      <td>recurrence-events</td>\n",
       "    </tr>\n",
       "    <tr>\n",
       "      <th>1</th>\n",
       "      <td>50-59</td>\n",
       "      <td>ge40</td>\n",
       "      <td>15-19</td>\n",
       "      <td>0-2</td>\n",
       "      <td>no</td>\n",
       "      <td>1</td>\n",
       "      <td>right</td>\n",
       "      <td>central</td>\n",
       "      <td>no</td>\n",
       "      <td>no-recurrence-events</td>\n",
       "    </tr>\n",
       "    <tr>\n",
       "      <th>2</th>\n",
       "      <td>50-59</td>\n",
       "      <td>ge40</td>\n",
       "      <td>35-39</td>\n",
       "      <td>0-2</td>\n",
       "      <td>no</td>\n",
       "      <td>2</td>\n",
       "      <td>left</td>\n",
       "      <td>left_low</td>\n",
       "      <td>no</td>\n",
       "      <td>recurrence-events</td>\n",
       "    </tr>\n",
       "    <tr>\n",
       "      <th>3</th>\n",
       "      <td>40-49</td>\n",
       "      <td>premeno</td>\n",
       "      <td>35-39</td>\n",
       "      <td>0-2</td>\n",
       "      <td>yes</td>\n",
       "      <td>3</td>\n",
       "      <td>right</td>\n",
       "      <td>left_low</td>\n",
       "      <td>yes</td>\n",
       "      <td>no-recurrence-events</td>\n",
       "    </tr>\n",
       "    <tr>\n",
       "      <th>4</th>\n",
       "      <td>40-49</td>\n",
       "      <td>premeno</td>\n",
       "      <td>30-34</td>\n",
       "      <td>3-5</td>\n",
       "      <td>yes</td>\n",
       "      <td>2</td>\n",
       "      <td>left</td>\n",
       "      <td>right_up</td>\n",
       "      <td>no</td>\n",
       "      <td>recurrence-events</td>\n",
       "    </tr>\n",
       "  </tbody>\n",
       "</table>\n",
       "</div>"
      ],
      "text/plain": [
       "     age menopause tumor-size inv-nodes node-caps  deg-malig breast  \\\n",
       "0  40-49   premeno      15-19       0-2       yes          3  right   \n",
       "1  50-59      ge40      15-19       0-2        no          1  right   \n",
       "2  50-59      ge40      35-39       0-2        no          2   left   \n",
       "3  40-49   premeno      35-39       0-2       yes          3  right   \n",
       "4  40-49   premeno      30-34       3-5       yes          2   left   \n",
       "\n",
       "  breast-quad irradiat                 Class  \n",
       "0     left_up       no     recurrence-events  \n",
       "1     central       no  no-recurrence-events  \n",
       "2    left_low       no     recurrence-events  \n",
       "3    left_low      yes  no-recurrence-events  \n",
       "4    right_up       no     recurrence-events  "
      ]
     },
     "execution_count": 27,
     "metadata": {},
     "output_type": "execute_result"
    }
   ],
   "source": [
    "cancer_dataset.head()"
   ]
  },
  {
   "cell_type": "code",
   "execution_count": 28,
   "metadata": {},
   "outputs": [
    {
     "data": {
      "text/plain": [
       "(286, 10)"
      ]
     },
     "execution_count": 28,
     "metadata": {},
     "output_type": "execute_result"
    }
   ],
   "source": [
    "cancer_dataset.shape"
   ]
  },
  {
   "cell_type": "code",
   "execution_count": 29,
   "metadata": {},
   "outputs": [],
   "source": [
    "# As we can see that most of the predictors have categorical values of the dataset so we have to encode all of these\n",
    "\n",
    "# Divinding the dataset into predictors and response variables\n",
    "\n",
    "X_cancer = cancer_dataset.iloc[:,:-1]\n",
    "y_cancer = cancer_dataset['Class']"
   ]
  },
  {
   "cell_type": "code",
   "execution_count": 30,
   "metadata": {},
   "outputs": [],
   "source": [
    "# Encoding the y dataset\n",
    "\n",
    "label_encoder = LabelEncoder()\n",
    "label_encoder = label_encoder.fit(y_cancer)\n",
    "\n",
    "label_encoded_y = label_encoder.transform(y_cancer)"
   ]
  },
  {
   "cell_type": "code",
   "execution_count": 31,
   "metadata": {},
   "outputs": [
    {
     "data": {
      "text/plain": [
       "array([1, 0, 1, 0, 1, 0, 0, 0, 0, 0, 0, 0, 0, 0, 1, 0, 0, 0, 0, 0, 1, 0,\n",
       "       0, 0, 1, 0, 0, 0, 0, 1, 1, 0, 0, 0, 1, 0, 0, 0, 0, 0, 1, 0, 0, 1,\n",
       "       0, 1, 0, 0, 0, 0, 1, 0, 0, 0, 0, 0, 0, 0, 0, 1, 1, 0, 0, 1, 1, 0,\n",
       "       0, 0, 1, 0, 1, 0, 0, 1, 1, 0, 0, 0, 1, 0, 0, 0, 0, 0, 0, 0, 0, 0,\n",
       "       0, 0, 1, 1, 1, 0, 0, 0, 1, 0, 1, 1, 1, 1, 0, 0, 0, 1, 1, 1, 0, 0,\n",
       "       0, 0, 0, 0, 0, 0, 1, 0, 0, 0, 1, 0, 0, 1, 0, 0, 0, 0, 1, 0, 0, 0,\n",
       "       1, 1, 0, 1, 0, 0, 1, 0, 1, 0, 1, 0, 0, 0, 1, 0, 0, 0, 1, 0, 0, 1,\n",
       "       0, 0, 1, 1, 0, 0, 0, 0, 0, 0, 1, 1, 1, 0, 0, 0, 1, 1, 0, 1, 0, 0,\n",
       "       0, 1, 1, 0, 0, 1, 0, 1, 0, 0, 0, 1, 0, 0, 1, 0, 1, 0, 0, 0, 1, 0,\n",
       "       0, 1, 0, 0, 0, 0, 0, 1, 0, 1, 1, 0, 1, 1, 0, 0, 0, 0, 1, 0, 1, 0,\n",
       "       0, 0, 0, 0, 1, 0, 0, 0, 0, 1, 0, 0, 0, 0, 0, 1, 0, 1, 1, 1, 1, 0,\n",
       "       0, 0, 0, 0, 0, 0, 0, 0, 1, 0, 0, 0, 0, 1, 0, 1, 0, 1, 0, 0, 0, 1,\n",
       "       0, 0, 0, 1, 0, 0, 1, 1, 0, 0, 0, 0, 0, 0, 0, 0, 0, 0, 0, 0, 0, 0])"
      ]
     },
     "execution_count": 31,
     "metadata": {},
     "output_type": "execute_result"
    }
   ],
   "source": [
    "label_encoded_y"
   ]
  },
  {
   "cell_type": "code",
   "execution_count": 32,
   "metadata": {},
   "outputs": [
    {
     "data": {
      "text/html": [
       "<div>\n",
       "<style scoped>\n",
       "    .dataframe tbody tr th:only-of-type {\n",
       "        vertical-align: middle;\n",
       "    }\n",
       "\n",
       "    .dataframe tbody tr th {\n",
       "        vertical-align: top;\n",
       "    }\n",
       "\n",
       "    .dataframe thead th {\n",
       "        text-align: right;\n",
       "    }\n",
       "</style>\n",
       "<table border=\"1\" class=\"dataframe\">\n",
       "  <thead>\n",
       "    <tr style=\"text-align: right;\">\n",
       "      <th></th>\n",
       "      <th>Pregnancies</th>\n",
       "      <th>Glucose</th>\n",
       "      <th>BloodPressure</th>\n",
       "      <th>SkinThickness</th>\n",
       "      <th>Insulin</th>\n",
       "      <th>BMI</th>\n",
       "      <th>DiabetesPedigreeFunction</th>\n",
       "      <th>Age</th>\n",
       "    </tr>\n",
       "  </thead>\n",
       "  <tbody>\n",
       "    <tr>\n",
       "      <th>0</th>\n",
       "      <td>6</td>\n",
       "      <td>148</td>\n",
       "      <td>72</td>\n",
       "      <td>35</td>\n",
       "      <td>0</td>\n",
       "      <td>33.6</td>\n",
       "      <td>0.627</td>\n",
       "      <td>50</td>\n",
       "    </tr>\n",
       "    <tr>\n",
       "      <th>1</th>\n",
       "      <td>1</td>\n",
       "      <td>85</td>\n",
       "      <td>66</td>\n",
       "      <td>29</td>\n",
       "      <td>0</td>\n",
       "      <td>26.6</td>\n",
       "      <td>0.351</td>\n",
       "      <td>31</td>\n",
       "    </tr>\n",
       "    <tr>\n",
       "      <th>2</th>\n",
       "      <td>8</td>\n",
       "      <td>183</td>\n",
       "      <td>64</td>\n",
       "      <td>0</td>\n",
       "      <td>0</td>\n",
       "      <td>23.3</td>\n",
       "      <td>0.672</td>\n",
       "      <td>32</td>\n",
       "    </tr>\n",
       "    <tr>\n",
       "      <th>3</th>\n",
       "      <td>1</td>\n",
       "      <td>89</td>\n",
       "      <td>66</td>\n",
       "      <td>23</td>\n",
       "      <td>94</td>\n",
       "      <td>28.1</td>\n",
       "      <td>0.167</td>\n",
       "      <td>21</td>\n",
       "    </tr>\n",
       "    <tr>\n",
       "      <th>4</th>\n",
       "      <td>0</td>\n",
       "      <td>137</td>\n",
       "      <td>40</td>\n",
       "      <td>35</td>\n",
       "      <td>168</td>\n",
       "      <td>43.1</td>\n",
       "      <td>2.288</td>\n",
       "      <td>33</td>\n",
       "    </tr>\n",
       "  </tbody>\n",
       "</table>\n",
       "</div>"
      ],
      "text/plain": [
       "   Pregnancies  Glucose  BloodPressure  SkinThickness  Insulin   BMI  \\\n",
       "0            6      148             72             35        0  33.6   \n",
       "1            1       85             66             29        0  26.6   \n",
       "2            8      183             64              0        0  23.3   \n",
       "3            1       89             66             23       94  28.1   \n",
       "4            0      137             40             35      168  43.1   \n",
       "\n",
       "   DiabetesPedigreeFunction  Age  \n",
       "0                     0.627   50  \n",
       "1                     0.351   31  \n",
       "2                     0.672   32  \n",
       "3                     0.167   21  \n",
       "4                     2.288   33  "
      ]
     },
     "execution_count": 32,
     "metadata": {},
     "output_type": "execute_result"
    }
   ],
   "source": [
    "# Now the main task is to encode the predictor variables of our dataset\n",
    "\n",
    "X.head()"
   ]
  },
  {
   "cell_type": "code",
   "execution_count": 33,
   "metadata": {},
   "outputs": [],
   "source": [
    "# As the breast cancer data for predictors of differennt patients cannot possibly be ordinal data so we have...\n",
    "# ... to first encode the string data into labels then finally encode then into one-hot encoded data\n",
    "\n",
    "from sklearn.preprocessing import LabelEncoder\n",
    "from sklearn.preprocessing import OneHotEncoder"
   ]
  },
  {
   "cell_type": "code",
   "execution_count": 34,
   "metadata": {},
   "outputs": [
    {
     "data": {
      "text/plain": [
       "Pregnancies                   int64\n",
       "Glucose                       int64\n",
       "BloodPressure                 int64\n",
       "SkinThickness                 int64\n",
       "Insulin                       int64\n",
       "BMI                         float64\n",
       "DiabetesPedigreeFunction    float64\n",
       "Age                           int64\n",
       "dtype: object"
      ]
     },
     "execution_count": 34,
     "metadata": {},
     "output_type": "execute_result"
    }
   ],
   "source": [
    "X.dtypes"
   ]
  },
  {
   "cell_type": "code",
   "execution_count": 35,
   "metadata": {},
   "outputs": [],
   "source": [
    "X_cancer = X_cancer.astype('str')"
   ]
  },
  {
   "cell_type": "code",
   "execution_count": 36,
   "metadata": {
    "scrolled": true
   },
   "outputs": [],
   "source": [
    "column_data = []\n",
    "\n",
    "for column in X_cancer.columns:\n",
    "    \n",
    "    \n",
    "    label_encoder = LabelEncoder()\n",
    "    encoded_data = label_encoder.fit_transform(X_cancer[[column]][column])\n",
    "    encoded_data = np.array(encoded_data).reshape(X_cancer.shape[0], 1)\n",
    "    one_hot_encoder = OneHotEncoder(sparse=False)\n",
    "    one_hot_encoded_data = one_hot_encoder.fit_transform(encoded_data)\n",
    "    \n",
    "    column_data.append(one_hot_encoded_data)"
   ]
  },
  {
   "cell_type": "code",
   "execution_count": 37,
   "metadata": {},
   "outputs": [
    {
     "data": {
      "text/plain": [
       "(286, 43)"
      ]
     },
     "execution_count": 37,
     "metadata": {},
     "output_type": "execute_result"
    }
   ],
   "source": [
    "X_cancer_encoded = np.column_stack(column_data)\n",
    "X_cancer_encoded.shape"
   ]
  },
  {
   "cell_type": "code",
   "execution_count": 38,
   "metadata": {},
   "outputs": [],
   "source": [
    "# Now we will split the data into training and testing \n",
    "\n",
    "X_train, X_test, y_train, y_test = train_test_split(X_cancer_encoded, label_encoded_y, test_size = 0.33, \n",
    "                                                   random_state = 4)"
   ]
  },
  {
   "cell_type": "code",
   "execution_count": 39,
   "metadata": {},
   "outputs": [
    {
     "data": {
      "text/plain": [
       "XGBClassifier()"
      ]
     },
     "execution_count": 39,
     "metadata": {},
     "output_type": "execute_result"
    }
   ],
   "source": [
    "# Training the XGBoost classifier\n",
    "\n",
    "model = XGBClassifier()\n",
    "\n",
    "model.fit(X_train, y_train)"
   ]
  },
  {
   "cell_type": "code",
   "execution_count": 40,
   "metadata": {},
   "outputs": [],
   "source": [
    "predictions_cancer = model.predict(X_test)"
   ]
  },
  {
   "cell_type": "code",
   "execution_count": 41,
   "metadata": {},
   "outputs": [
    {
     "data": {
      "text/plain": [
       "0.7473684210526316"
      ]
     },
     "execution_count": 41,
     "metadata": {},
     "output_type": "execute_result"
    }
   ],
   "source": [
    "# Checking the accuracy of our model\n",
    "\n",
    "accuracy_score(y_test, predictions_cancer)"
   ]
  },
  {
   "cell_type": "markdown",
   "metadata": {},
   "source": [
    "## Evaluating XGBoost Models"
   ]
  },
  {
   "cell_type": "markdown",
   "metadata": {},
   "source": [
    "### Evaluating Models using Training and Test Datasets"
   ]
  },
  {
   "cell_type": "markdown",
   "metadata": {},
   "source": [
    "    Generally a split of 66% of data is used for training and 33% of the data is used for testing as seen in above \n",
    "    examples"
   ]
  },
  {
   "cell_type": "markdown",
   "metadata": {},
   "source": [
    "### Evaluating Models Using K-Fold Cross Validation"
   ]
  },
  {
   "cell_type": "code",
   "execution_count": 42,
   "metadata": {},
   "outputs": [],
   "source": [
    "from sklearn.model_selection import RepeatedKFold"
   ]
  },
  {
   "cell_type": "code",
   "execution_count": 43,
   "metadata": {},
   "outputs": [],
   "source": [
    "# Implementing RepeatedKFold Cross Validation on the Breast Cancer Dataset\n",
    "\n",
    "cancer_data = pd.read_csv('diabetes.csv')"
   ]
  },
  {
   "cell_type": "code",
   "execution_count": 44,
   "metadata": {},
   "outputs": [
    {
     "data": {
      "text/html": [
       "<div>\n",
       "<style scoped>\n",
       "    .dataframe tbody tr th:only-of-type {\n",
       "        vertical-align: middle;\n",
       "    }\n",
       "\n",
       "    .dataframe tbody tr th {\n",
       "        vertical-align: top;\n",
       "    }\n",
       "\n",
       "    .dataframe thead th {\n",
       "        text-align: right;\n",
       "    }\n",
       "</style>\n",
       "<table border=\"1\" class=\"dataframe\">\n",
       "  <thead>\n",
       "    <tr style=\"text-align: right;\">\n",
       "      <th></th>\n",
       "      <th>Pregnancies</th>\n",
       "      <th>Glucose</th>\n",
       "      <th>BloodPressure</th>\n",
       "      <th>SkinThickness</th>\n",
       "      <th>Insulin</th>\n",
       "      <th>BMI</th>\n",
       "      <th>DiabetesPedigreeFunction</th>\n",
       "      <th>Age</th>\n",
       "      <th>Outcome</th>\n",
       "    </tr>\n",
       "  </thead>\n",
       "  <tbody>\n",
       "    <tr>\n",
       "      <th>0</th>\n",
       "      <td>6</td>\n",
       "      <td>148</td>\n",
       "      <td>72</td>\n",
       "      <td>35</td>\n",
       "      <td>0</td>\n",
       "      <td>33.6</td>\n",
       "      <td>0.627</td>\n",
       "      <td>50</td>\n",
       "      <td>1</td>\n",
       "    </tr>\n",
       "    <tr>\n",
       "      <th>1</th>\n",
       "      <td>1</td>\n",
       "      <td>85</td>\n",
       "      <td>66</td>\n",
       "      <td>29</td>\n",
       "      <td>0</td>\n",
       "      <td>26.6</td>\n",
       "      <td>0.351</td>\n",
       "      <td>31</td>\n",
       "      <td>0</td>\n",
       "    </tr>\n",
       "    <tr>\n",
       "      <th>2</th>\n",
       "      <td>8</td>\n",
       "      <td>183</td>\n",
       "      <td>64</td>\n",
       "      <td>0</td>\n",
       "      <td>0</td>\n",
       "      <td>23.3</td>\n",
       "      <td>0.672</td>\n",
       "      <td>32</td>\n",
       "      <td>1</td>\n",
       "    </tr>\n",
       "    <tr>\n",
       "      <th>3</th>\n",
       "      <td>1</td>\n",
       "      <td>89</td>\n",
       "      <td>66</td>\n",
       "      <td>23</td>\n",
       "      <td>94</td>\n",
       "      <td>28.1</td>\n",
       "      <td>0.167</td>\n",
       "      <td>21</td>\n",
       "      <td>0</td>\n",
       "    </tr>\n",
       "    <tr>\n",
       "      <th>4</th>\n",
       "      <td>0</td>\n",
       "      <td>137</td>\n",
       "      <td>40</td>\n",
       "      <td>35</td>\n",
       "      <td>168</td>\n",
       "      <td>43.1</td>\n",
       "      <td>2.288</td>\n",
       "      <td>33</td>\n",
       "      <td>1</td>\n",
       "    </tr>\n",
       "  </tbody>\n",
       "</table>\n",
       "</div>"
      ],
      "text/plain": [
       "   Pregnancies  Glucose  BloodPressure  SkinThickness  Insulin   BMI  \\\n",
       "0            6      148             72             35        0  33.6   \n",
       "1            1       85             66             29        0  26.6   \n",
       "2            8      183             64              0        0  23.3   \n",
       "3            1       89             66             23       94  28.1   \n",
       "4            0      137             40             35      168  43.1   \n",
       "\n",
       "   DiabetesPedigreeFunction  Age  Outcome  \n",
       "0                     0.627   50        1  \n",
       "1                     0.351   31        0  \n",
       "2                     0.672   32        1  \n",
       "3                     0.167   21        0  \n",
       "4                     2.288   33        1  "
      ]
     },
     "execution_count": 44,
     "metadata": {},
     "output_type": "execute_result"
    }
   ],
   "source": [
    "cancer_data.head()"
   ]
  },
  {
   "cell_type": "code",
   "execution_count": 45,
   "metadata": {},
   "outputs": [],
   "source": [
    "X_cancer = cancer_data.iloc[:,:-1]\n",
    "y_cancer = cancer_data['Outcome']"
   ]
  },
  {
   "cell_type": "code",
   "execution_count": 46,
   "metadata": {},
   "outputs": [],
   "source": [
    "X_train, X_test, y_train, y_test = train_test_split(X_cancer, y_cancer, test_size=0.33, random_state=7)"
   ]
  },
  {
   "cell_type": "code",
   "execution_count": 47,
   "metadata": {},
   "outputs": [
    {
     "data": {
      "text/plain": [
       "XGBClassifier()"
      ]
     },
     "execution_count": 47,
     "metadata": {},
     "output_type": "execute_result"
    }
   ],
   "source": [
    "model_cancer = XGBClassifier()\n",
    "model_cancer.fit(X_train, y_train)"
   ]
  },
  {
   "cell_type": "code",
   "execution_count": 48,
   "metadata": {},
   "outputs": [],
   "source": [
    "predictions_cancer = model_cancer.predict(X_test)"
   ]
  },
  {
   "cell_type": "code",
   "execution_count": 49,
   "metadata": {},
   "outputs": [],
   "source": [
    "# The above two steps can be skipped and we can use the RepeatedKFold Cross Validation to calculate the accuracy...\n",
    "# ...of the model\n",
    "\n",
    "RKFold = RepeatedKFold(random_state=8)"
   ]
  },
  {
   "cell_type": "code",
   "execution_count": 50,
   "metadata": {},
   "outputs": [],
   "source": [
    "# To evaluate the results of our XGBoost Model using cross validation we need to use cross_val score\n",
    "\n",
    "from sklearn.model_selection import cross_val_score"
   ]
  },
  {
   "cell_type": "code",
   "execution_count": 51,
   "metadata": {},
   "outputs": [],
   "source": [
    "results = cross_val_score(model_cancer, X=X_train, y = y_train, cv = RKFold)"
   ]
  },
  {
   "cell_type": "code",
   "execution_count": 52,
   "metadata": {},
   "outputs": [
    {
     "data": {
      "text/plain": [
       "0.7488044926708547"
      ]
     },
     "execution_count": 52,
     "metadata": {},
     "output_type": "execute_result"
    }
   ],
   "source": [
    "results.mean()"
   ]
  },
  {
   "cell_type": "code",
   "execution_count": 53,
   "metadata": {},
   "outputs": [
    {
     "data": {
      "text/plain": [
       "0.038055094598678896"
      ]
     },
     "execution_count": 53,
     "metadata": {},
     "output_type": "execute_result"
    }
   ],
   "source": [
    "results.std()"
   ]
  },
  {
   "cell_type": "code",
   "execution_count": 54,
   "metadata": {},
   "outputs": [
    {
     "data": {
      "text/plain": [
       "0    500\n",
       "1    268\n",
       "Name: Outcome, dtype: int64"
      ]
     },
     "execution_count": 54,
     "metadata": {},
     "output_type": "execute_result"
    }
   ],
   "source": [
    "cancer_data['Outcome'].value_counts()"
   ]
  },
  {
   "cell_type": "code",
   "execution_count": 55,
   "metadata": {},
   "outputs": [],
   "source": [
    "# As it can be seen above the distribution of the data in uneven, so for the situations where we have to do...\n",
    "# ...classification and the frequency distribution of the classes is uneven then we should use StratifiedKFold...\n",
    "# ... which can also be implemented using the scikit-learn library\n",
    "\n",
    "from sklearn.model_selection import StratifiedKFold"
   ]
  },
  {
   "cell_type": "code",
   "execution_count": 56,
   "metadata": {},
   "outputs": [
    {
     "name": "stderr",
     "output_type": "stream",
     "text": [
      "C:\\Users\\Jahanvi\\AppData\\Roaming\\Python\\Python37\\site-packages\\sklearn\\model_selection\\_split.py:297: FutureWarning: Setting a random_state has no effect since shuffle is False. This will raise an error in 0.24. You should leave random_state to its default (None), or set shuffle=True.\n",
      "  FutureWarning\n"
     ]
    }
   ],
   "source": [
    "SKFold = StratifiedKFold(random_state=7)"
   ]
  },
  {
   "cell_type": "code",
   "execution_count": 57,
   "metadata": {},
   "outputs": [],
   "source": [
    "results = cross_val_score(model_cancer, X = X_train, y = y_train, cv = SKFold)"
   ]
  },
  {
   "cell_type": "code",
   "execution_count": 58,
   "metadata": {},
   "outputs": [
    {
     "data": {
      "text/plain": [
       "0.7567485246525795"
      ]
     },
     "execution_count": 58,
     "metadata": {},
     "output_type": "execute_result"
    }
   ],
   "source": [
    "results.mean()"
   ]
  },
  {
   "cell_type": "code",
   "execution_count": 59,
   "metadata": {},
   "outputs": [
    {
     "data": {
      "text/plain": [
       "0.040662656829913525"
      ]
     },
     "execution_count": 59,
     "metadata": {},
     "output_type": "execute_result"
    }
   ],
   "source": [
    "results.std()"
   ]
  },
  {
   "cell_type": "markdown",
   "metadata": {},
   "source": [
    "## Visualizing Individual Trees Within a Model"
   ]
  },
  {
   "cell_type": "code",
   "execution_count": 60,
   "metadata": {},
   "outputs": [],
   "source": [
    "from xgboost import plot_tree\n",
    "from matplotlib import pyplot as plt"
   ]
  },
  {
   "cell_type": "code",
   "execution_count": 61,
   "metadata": {},
   "outputs": [
    {
     "data": {
      "image/png": "[encoded data removed]",
      "text/plain": [
       "<Figure size 2520x1224 with 1 Axes>"
      ]
     },
     "metadata": {
      "needs_background": "light"
     },
     "output_type": "display_data"
    }
   ],
   "source": [
    "fig, ax = plt.subplots(figsize=(35,17))\n",
    "\n",
    "plot_tree(model_cancer, ax=ax)\n",
    "plt.show()"
   ]
  },
  {
   "cell_type": "markdown",
   "metadata": {},
   "source": [
    "## Feature Importance And Feature Selection in XGBoost"
   ]
  },
  {
   "cell_type": "markdown",
   "metadata": {},
   "source": [
    "### Feature Importance in Gradient Boosting"
   ]
  },
  {
   "cell_type": "code",
   "execution_count": 62,
   "metadata": {},
   "outputs": [
    {
     "data": {
      "text/plain": [
       "array([0.0775613 , 0.29183695, 0.08493615, 0.08040861, 0.09472006,\n",
       "       0.15973376, 0.1021471 , 0.10865614], dtype=float32)"
      ]
     },
     "execution_count": 62,
     "metadata": {},
     "output_type": "execute_result"
    }
   ],
   "source": [
    "# Manually Plotting the feature importance\n",
    "\n",
    "# Important feature statistics for the breast cancer model\n",
    "model_cancer.feature_importances_"
   ]
  },
  {
   "cell_type": "code",
   "execution_count": 63,
   "metadata": {},
   "outputs": [
    {
     "data": {
      "text/plain": [
       "<BarContainer object of 8 artists>"
      ]
     },
     "execution_count": 63,
     "metadata": {},
     "output_type": "execute_result"
    },
    {
     "data": {
      "image/png": "[encoded data removed]",
      "text/plain": [
       "<Figure size 432x288 with 1 Axes>"
      ]
     },
     "metadata": {
      "needs_background": "light"
     },
     "output_type": "display_data"
    }
   ],
   "source": [
    "# Plotting a bar graph\n",
    "\n",
    "plt.barh(X.columns, model_cancer.feature_importances_)"
   ]
  },
  {
   "cell_type": "code",
   "execution_count": 64,
   "metadata": {},
   "outputs": [
    {
     "data": {
      "text/plain": [
       "<matplotlib.axes._subplots.AxesSubplot at 0x145b83b4dd8>"
      ]
     },
     "execution_count": 64,
     "metadata": {},
     "output_type": "execute_result"
    },
    {
     "data": {
      "image/png": "[encoded data removed]",
      "text/plain": [
       "<Figure size 432x288 with 1 Axes>"
      ]
     },
     "metadata": {
      "needs_background": "light"
     },
     "output_type": "display_data"
    }
   ],
   "source": [
    "# Using the built-in function provided by xgboost to directly plot the graph of feature importances\n",
    "\n",
    "from xgboost import plot_importance\n",
    "\n",
    "plot_importance(model_cancer)"
   ]
  },
  {
   "cell_type": "markdown",
   "metadata": {},
   "source": [
    "### Feature Selection with XGBoost Feature Importance Scores"
   ]
  },
  {
   "cell_type": "code",
   "execution_count": 65,
   "metadata": {},
   "outputs": [],
   "source": [
    "# For selecting the important features from the important scores we use the scikit-learn's SelectFromModel class...\n",
    "# ... which tranforms the given data set into the selected important features based on the certain value of ...\n",
    "# ... the threshold which is being passed by the user.\n",
    "\n",
    "from sklearn.feature_selection import SelectFromModel"
   ]
  },
  {
   "cell_type": "code",
   "execution_count": 66,
   "metadata": {},
   "outputs": [
    {
     "name": "stdout",
     "output_type": "stream",
     "text": [
      "[0.0775613, 0.08040861, 0.08493615, 0.09472006, 0.1021471, 0.10865614, 0.15973376, 0.29183695]\n"
     ]
    }
   ],
   "source": [
    "# We already have the model_cancer for breast cancer dataset, now we will further explore it.\n",
    "\n",
    "thresholds = sorted(model_cancer.feature_importances_)\n",
    "print(thresholds)"
   ]
  },
  {
   "cell_type": "code",
   "execution_count": 67,
   "metadata": {},
   "outputs": [
    {
     "name": "stdout",
     "output_type": "stream",
     "text": [
      "Accuracy = 0.7795275590551181, Threshold = 0.07756129652261734, n = 8\n",
      "Accuracy = 0.7637795275590551, Threshold = 0.08040861040353775, n = 7\n",
      "Accuracy = 0.7755905511811023, Threshold = 0.08493614941835403, n = 6\n",
      "Accuracy = 0.7637795275590551, Threshold = 0.09472005814313889, n = 5\n",
      "Accuracy = 0.7637795275590551, Threshold = 0.10214710235595703, n = 4\n",
      "Accuracy = 0.7480314960629921, Threshold = 0.1086561381816864, n = 3\n",
      "Accuracy = 0.7598425196850394, Threshold = 0.15973375737667084, n = 2\n",
      "Accuracy = 0.7007874015748031, Threshold = 0.2918369472026825, n = 1\n"
     ]
    }
   ],
   "source": [
    "# So we are gonna try all the threshold values and try to analyse the accuracy of the model.\n",
    "\n",
    "for thresh in thresholds:\n",
    "    \n",
    "    select_model = SelectFromModel(model_cancer, threshold=thresh, prefit=True)\n",
    "    select_X_train = select_model.transform(X_train)\n",
    "    \n",
    "    model_select = XGBClassifier()\n",
    "    model_select.fit(select_X_train, y_train)\n",
    "    select_X_test = select_model.transform(X_test)\n",
    "    predictions_select = model_select.predict(select_X_test)\n",
    "    \n",
    "    accuracy = accuracy_score(y_test, predictions_select)\n",
    "    print(\"Accuracy = {}, Threshold = {}, n = {}\".format(accuracy, thresh, select_X_train.shape[1]))"
   ]
  },
  {
   "cell_type": "markdown",
   "metadata": {},
   "source": [
    "## Monitoring Training Performance and Early Stopping"
   ]
  },
  {
   "cell_type": "code",
   "execution_count": 68,
   "metadata": {
    "scrolled": true
   },
   "outputs": [
    {
     "name": "stdout",
     "output_type": "stream",
     "text": [
      "[0]\tvalidation_0-error:0.259843\n",
      "[1]\tvalidation_0-error:0.26378\n",
      "[2]\tvalidation_0-error:0.26378\n",
      "[3]\tvalidation_0-error:0.255906\n",
      "[4]\tvalidation_0-error:0.255906\n",
      "[5]\tvalidation_0-error:0.26378\n",
      "[6]\tvalidation_0-error:0.23622\n",
      "[7]\tvalidation_0-error:0.255906\n",
      "[8]\tvalidation_0-error:0.248031\n",
      "[9]\tvalidation_0-error:0.248031\n",
      "[10]\tvalidation_0-error:0.248031\n",
      "[11]\tvalidation_0-error:0.232283\n",
      "[12]\tvalidation_0-error:0.228346\n",
      "[13]\tvalidation_0-error:0.228346\n",
      "[14]\tvalidation_0-error:0.228346\n",
      "[15]\tvalidation_0-error:0.228346\n",
      "[16]\tvalidation_0-error:0.228346\n",
      "[17]\tvalidation_0-error:0.228346\n",
      "[18]\tvalidation_0-error:0.224409\n",
      "[19]\tvalidation_0-error:0.232283\n",
      "[20]\tvalidation_0-error:0.232283\n",
      "[21]\tvalidation_0-error:0.23622\n",
      "[22]\tvalidation_0-error:0.23622\n",
      "[23]\tvalidation_0-error:0.232283\n",
      "[24]\tvalidation_0-error:0.228346\n",
      "[25]\tvalidation_0-error:0.228346\n",
      "[26]\tvalidation_0-error:0.224409\n",
      "[27]\tvalidation_0-error:0.224409\n",
      "[28]\tvalidation_0-error:0.228346\n",
      "[29]\tvalidation_0-error:0.232283\n",
      "[30]\tvalidation_0-error:0.228346\n",
      "[31]\tvalidation_0-error:0.224409\n",
      "[32]\tvalidation_0-error:0.224409\n",
      "[33]\tvalidation_0-error:0.228346\n",
      "[34]\tvalidation_0-error:0.228346\n",
      "[35]\tvalidation_0-error:0.224409\n",
      "[36]\tvalidation_0-error:0.228346\n",
      "[37]\tvalidation_0-error:0.224409\n",
      "[38]\tvalidation_0-error:0.216535\n",
      "[39]\tvalidation_0-error:0.220472\n",
      "[40]\tvalidation_0-error:0.216535\n",
      "[41]\tvalidation_0-error:0.216535\n",
      "[42]\tvalidation_0-error:0.216535\n",
      "[43]\tvalidation_0-error:0.216535\n",
      "[44]\tvalidation_0-error:0.212598\n",
      "[45]\tvalidation_0-error:0.224409\n",
      "[46]\tvalidation_0-error:0.224409\n",
      "[47]\tvalidation_0-error:0.220472\n",
      "[48]\tvalidation_0-error:0.224409\n",
      "[49]\tvalidation_0-error:0.232283\n",
      "[50]\tvalidation_0-error:0.228346\n",
      "[51]\tvalidation_0-error:0.224409\n",
      "[52]\tvalidation_0-error:0.224409\n",
      "[53]\tvalidation_0-error:0.232283\n",
      "[54]\tvalidation_0-error:0.228346\n",
      "[55]\tvalidation_0-error:0.228346\n",
      "[56]\tvalidation_0-error:0.224409\n",
      "[57]\tvalidation_0-error:0.224409\n",
      "[58]\tvalidation_0-error:0.224409\n",
      "[59]\tvalidation_0-error:0.224409\n",
      "[60]\tvalidation_0-error:0.224409\n",
      "[61]\tvalidation_0-error:0.224409\n",
      "[62]\tvalidation_0-error:0.224409\n",
      "[63]\tvalidation_0-error:0.224409\n",
      "[64]\tvalidation_0-error:0.224409\n",
      "[65]\tvalidation_0-error:0.224409\n",
      "[66]\tvalidation_0-error:0.220472\n",
      "[67]\tvalidation_0-error:0.216535\n",
      "[68]\tvalidation_0-error:0.216535\n",
      "[69]\tvalidation_0-error:0.216535\n",
      "[70]\tvalidation_0-error:0.216535\n",
      "[71]\tvalidation_0-error:0.216535\n",
      "[72]\tvalidation_0-error:0.216535\n",
      "[73]\tvalidation_0-error:0.216535\n",
      "[74]\tvalidation_0-error:0.216535\n",
      "[75]\tvalidation_0-error:0.216535\n",
      "[76]\tvalidation_0-error:0.216535\n",
      "[77]\tvalidation_0-error:0.216535\n",
      "[78]\tvalidation_0-error:0.216535\n",
      "[79]\tvalidation_0-error:0.212598\n",
      "[80]\tvalidation_0-error:0.212598\n",
      "[81]\tvalidation_0-error:0.212598\n",
      "[82]\tvalidation_0-error:0.212598\n",
      "[83]\tvalidation_0-error:0.212598\n",
      "[84]\tvalidation_0-error:0.208661\n",
      "[85]\tvalidation_0-error:0.204724\n",
      "[86]\tvalidation_0-error:0.212598\n",
      "[87]\tvalidation_0-error:0.212598\n",
      "[88]\tvalidation_0-error:0.212598\n",
      "[89]\tvalidation_0-error:0.204724\n",
      "[90]\tvalidation_0-error:0.208661\n",
      "[91]\tvalidation_0-error:0.208661\n",
      "[92]\tvalidation_0-error:0.208661\n",
      "[93]\tvalidation_0-error:0.208661\n",
      "[94]\tvalidation_0-error:0.208661\n",
      "[95]\tvalidation_0-error:0.212598\n",
      "[96]\tvalidation_0-error:0.204724\n",
      "[97]\tvalidation_0-error:0.212598\n",
      "[98]\tvalidation_0-error:0.216535\n",
      "[99]\tvalidation_0-error:0.220472\n"
     ]
    },
    {
     "data": {
      "text/plain": [
       "XGBClassifier()"
      ]
     },
     "execution_count": 68,
     "metadata": {},
     "output_type": "execute_result"
    }
   ],
   "source": [
    "# XGBoost can report the performance of the model during training, it supports the parameter which excepts the...\n",
    "# ... Testing dataset values in order to see the performance metrics we set verbose True.\n",
    "\n",
    "evaluation_set = [(X_test, y_test)]\n",
    "\n",
    "model_cancer.fit(X_train, y_train, eval_metric='error', eval_set=evaluation_set, verbose=True)"
   ]
  },
  {
   "cell_type": "markdown",
   "metadata": {},
   "source": [
    "### Evaluating XGBoost Models With Learning Curves"
   ]
  },
  {
   "cell_type": "code",
   "execution_count": 69,
   "metadata": {},
   "outputs": [],
   "source": [
    "# We can the testing set along with the training set in the eval_set in order to evaluate the learning curve and...\n",
    "# ... and check for when the learning rate can be stopped.\n",
    "\n",
    "cancer_model_2 = XGBClassifier()"
   ]
  },
  {
   "cell_type": "code",
   "execution_count": 70,
   "metadata": {},
   "outputs": [],
   "source": [
    "eval_set = [(X_train, y_train), (X_test, y_test)]"
   ]
  },
  {
   "cell_type": "code",
   "execution_count": 71,
   "metadata": {},
   "outputs": [
    {
     "name": "stdout",
     "output_type": "stream",
     "text": [
      "[0]\tvalidation_0-error:0.22179\tvalidation_0-logloss:0.655153\tvalidation_1-error:0.259843\tvalidation_1-logloss:0.660186\n",
      "[1]\tvalidation_0-error:0.202335\tvalidation_0-logloss:0.623322\tvalidation_1-error:0.26378\tvalidation_1-logloss:0.634854\n",
      "[2]\tvalidation_0-error:0.196498\tvalidation_0-logloss:0.596814\tvalidation_1-error:0.26378\tvalidation_1-logloss:0.61224\n",
      "[3]\tvalidation_0-error:0.200389\tvalidation_0-logloss:0.574027\tvalidation_1-error:0.255906\tvalidation_1-logloss:0.593118\n",
      "[4]\tvalidation_0-error:0.202335\tvalidation_0-logloss:0.553853\tvalidation_1-error:0.255906\tvalidation_1-logloss:0.578303\n",
      "[5]\tvalidation_0-error:0.202335\tvalidation_0-logloss:0.536789\tvalidation_1-error:0.26378\tvalidation_1-logloss:0.564942\n",
      "[6]\tvalidation_0-error:0.194553\tvalidation_0-logloss:0.521477\tvalidation_1-error:0.23622\tvalidation_1-logloss:0.555113\n",
      "[7]\tvalidation_0-error:0.200389\tvalidation_0-logloss:0.507802\tvalidation_1-error:0.255906\tvalidation_1-logloss:0.54499\n",
      "[8]\tvalidation_0-error:0.194553\tvalidation_0-logloss:0.495257\tvalidation_1-error:0.248031\tvalidation_1-logloss:0.539151\n",
      "[9]\tvalidation_0-error:0.188716\tvalidation_0-logloss:0.484235\tvalidation_1-error:0.248031\tvalidation_1-logloss:0.531819\n",
      "[10]\tvalidation_0-error:0.184825\tvalidation_0-logloss:0.474463\tvalidation_1-error:0.248031\tvalidation_1-logloss:0.526065\n",
      "[11]\tvalidation_0-error:0.180934\tvalidation_0-logloss:0.465102\tvalidation_1-error:0.232283\tvalidation_1-logloss:0.519769\n",
      "[12]\tvalidation_0-error:0.177043\tvalidation_0-logloss:0.457304\tvalidation_1-error:0.228346\tvalidation_1-logloss:0.514979\n",
      "[13]\tvalidation_0-error:0.178988\tvalidation_0-logloss:0.44952\tvalidation_1-error:0.228346\tvalidation_1-logloss:0.50927\n",
      "[14]\tvalidation_0-error:0.177043\tvalidation_0-logloss:0.442121\tvalidation_1-error:0.228346\tvalidation_1-logloss:0.506086\n",
      "[15]\tvalidation_0-error:0.175097\tvalidation_0-logloss:0.435904\tvalidation_1-error:0.228346\tvalidation_1-logloss:0.503565\n",
      "[16]\tvalidation_0-error:0.173152\tvalidation_0-logloss:0.430177\tvalidation_1-error:0.228346\tvalidation_1-logloss:0.503591\n",
      "[17]\tvalidation_0-error:0.173152\tvalidation_0-logloss:0.425058\tvalidation_1-error:0.228346\tvalidation_1-logloss:0.500805\n",
      "[18]\tvalidation_0-error:0.173152\tvalidation_0-logloss:0.419677\tvalidation_1-error:0.224409\tvalidation_1-logloss:0.497605\n",
      "[19]\tvalidation_0-error:0.173152\tvalidation_0-logloss:0.415222\tvalidation_1-error:0.232283\tvalidation_1-logloss:0.495328\n",
      "[20]\tvalidation_0-error:0.167315\tvalidation_0-logloss:0.410329\tvalidation_1-error:0.232283\tvalidation_1-logloss:0.494777\n",
      "[21]\tvalidation_0-error:0.169261\tvalidation_0-logloss:0.405705\tvalidation_1-error:0.23622\tvalidation_1-logloss:0.494274\n",
      "[22]\tvalidation_0-error:0.171206\tvalidation_0-logloss:0.402225\tvalidation_1-error:0.23622\tvalidation_1-logloss:0.493333\n",
      "[23]\tvalidation_0-error:0.173152\tvalidation_0-logloss:0.398076\tvalidation_1-error:0.232283\tvalidation_1-logloss:0.492211\n",
      "[24]\tvalidation_0-error:0.177043\tvalidation_0-logloss:0.395054\tvalidation_1-error:0.228346\tvalidation_1-logloss:0.491936\n",
      "[25]\tvalidation_0-error:0.173152\tvalidation_0-logloss:0.392106\tvalidation_1-error:0.228346\tvalidation_1-logloss:0.490578\n",
      "[26]\tvalidation_0-error:0.177043\tvalidation_0-logloss:0.389044\tvalidation_1-error:0.224409\tvalidation_1-logloss:0.490895\n",
      "[27]\tvalidation_0-error:0.177043\tvalidation_0-logloss:0.385267\tvalidation_1-error:0.224409\tvalidation_1-logloss:0.490646\n",
      "[28]\tvalidation_0-error:0.177043\tvalidation_0-logloss:0.382761\tvalidation_1-error:0.228346\tvalidation_1-logloss:0.491911\n",
      "[29]\tvalidation_0-error:0.175097\tvalidation_0-logloss:0.380311\tvalidation_1-error:0.232283\tvalidation_1-logloss:0.491407\n",
      "[30]\tvalidation_0-error:0.175097\tvalidation_0-logloss:0.376631\tvalidation_1-error:0.228346\tvalidation_1-logloss:0.488828\n",
      "[31]\tvalidation_0-error:0.177043\tvalidation_0-logloss:0.374024\tvalidation_1-error:0.224409\tvalidation_1-logloss:0.487867\n",
      "[32]\tvalidation_0-error:0.178988\tvalidation_0-logloss:0.371973\tvalidation_1-error:0.224409\tvalidation_1-logloss:0.487297\n",
      "[33]\tvalidation_0-error:0.175097\tvalidation_0-logloss:0.369996\tvalidation_1-error:0.228346\tvalidation_1-logloss:0.487562\n",
      "[34]\tvalidation_0-error:0.171206\tvalidation_0-logloss:0.36738\tvalidation_1-error:0.228346\tvalidation_1-logloss:0.487789\n",
      "[35]\tvalidation_0-error:0.16537\tvalidation_0-logloss:0.363693\tvalidation_1-error:0.224409\tvalidation_1-logloss:0.487962\n",
      "[36]\tvalidation_0-error:0.177043\tvalidation_0-logloss:0.362079\tvalidation_1-error:0.228346\tvalidation_1-logloss:0.488218\n",
      "[37]\tvalidation_0-error:0.163424\tvalidation_0-logloss:0.35992\tvalidation_1-error:0.224409\tvalidation_1-logloss:0.489582\n",
      "[38]\tvalidation_0-error:0.169261\tvalidation_0-logloss:0.357945\tvalidation_1-error:0.216535\tvalidation_1-logloss:0.489334\n",
      "[39]\tvalidation_0-error:0.167315\tvalidation_0-logloss:0.355859\tvalidation_1-error:0.220472\tvalidation_1-logloss:0.490968\n",
      "[40]\tvalidation_0-error:0.16537\tvalidation_0-logloss:0.352872\tvalidation_1-error:0.216535\tvalidation_1-logloss:0.48978\n",
      "[41]\tvalidation_0-error:0.167315\tvalidation_0-logloss:0.351036\tvalidation_1-error:0.216535\tvalidation_1-logloss:0.490704\n",
      "[42]\tvalidation_0-error:0.159533\tvalidation_0-logloss:0.349321\tvalidation_1-error:0.216535\tvalidation_1-logloss:0.492369\n",
      "[43]\tvalidation_0-error:0.155642\tvalidation_0-logloss:0.346132\tvalidation_1-error:0.216535\tvalidation_1-logloss:0.492247\n",
      "[44]\tvalidation_0-error:0.151751\tvalidation_0-logloss:0.343088\tvalidation_1-error:0.212598\tvalidation_1-logloss:0.492908\n",
      "[45]\tvalidation_0-error:0.149805\tvalidation_0-logloss:0.340633\tvalidation_1-error:0.224409\tvalidation_1-logloss:0.491999\n",
      "[46]\tvalidation_0-error:0.145914\tvalidation_0-logloss:0.339085\tvalidation_1-error:0.224409\tvalidation_1-logloss:0.491278\n",
      "[47]\tvalidation_0-error:0.143969\tvalidation_0-logloss:0.336401\tvalidation_1-error:0.220472\tvalidation_1-logloss:0.491611\n",
      "[48]\tvalidation_0-error:0.143969\tvalidation_0-logloss:0.33483\tvalidation_1-error:0.224409\tvalidation_1-logloss:0.492568\n",
      "[49]\tvalidation_0-error:0.142023\tvalidation_0-logloss:0.331806\tvalidation_1-error:0.232283\tvalidation_1-logloss:0.494289\n",
      "[50]\tvalidation_0-error:0.136187\tvalidation_0-logloss:0.329741\tvalidation_1-error:0.228346\tvalidation_1-logloss:0.493236\n",
      "[51]\tvalidation_0-error:0.138132\tvalidation_0-logloss:0.328944\tvalidation_1-error:0.224409\tvalidation_1-logloss:0.493717\n",
      "[52]\tvalidation_0-error:0.138132\tvalidation_0-logloss:0.327021\tvalidation_1-error:0.224409\tvalidation_1-logloss:0.493996\n",
      "[53]\tvalidation_0-error:0.138132\tvalidation_0-logloss:0.324874\tvalidation_1-error:0.232283\tvalidation_1-logloss:0.494553\n",
      "[54]\tvalidation_0-error:0.132296\tvalidation_0-logloss:0.323564\tvalidation_1-error:0.228346\tvalidation_1-logloss:0.496089\n",
      "[55]\tvalidation_0-error:0.136187\tvalidation_0-logloss:0.321531\tvalidation_1-error:0.228346\tvalidation_1-logloss:0.497547\n",
      "[56]\tvalidation_0-error:0.134241\tvalidation_0-logloss:0.320381\tvalidation_1-error:0.224409\tvalidation_1-logloss:0.498491\n",
      "[57]\tvalidation_0-error:0.13035\tvalidation_0-logloss:0.318469\tvalidation_1-error:0.224409\tvalidation_1-logloss:0.497816\n",
      "[58]\tvalidation_0-error:0.13035\tvalidation_0-logloss:0.317531\tvalidation_1-error:0.224409\tvalidation_1-logloss:0.497638\n",
      "[59]\tvalidation_0-error:0.13035\tvalidation_0-logloss:0.315915\tvalidation_1-error:0.224409\tvalidation_1-logloss:0.499368\n",
      "[60]\tvalidation_0-error:0.128405\tvalidation_0-logloss:0.313413\tvalidation_1-error:0.224409\tvalidation_1-logloss:0.500054\n",
      "[61]\tvalidation_0-error:0.128405\tvalidation_0-logloss:0.312326\tvalidation_1-error:0.224409\tvalidation_1-logloss:0.500986\n",
      "[62]\tvalidation_0-error:0.126459\tvalidation_0-logloss:0.310292\tvalidation_1-error:0.224409\tvalidation_1-logloss:0.501629\n",
      "[63]\tvalidation_0-error:0.126459\tvalidation_0-logloss:0.309323\tvalidation_1-error:0.224409\tvalidation_1-logloss:0.501099\n",
      "[64]\tvalidation_0-error:0.126459\tvalidation_0-logloss:0.308336\tvalidation_1-error:0.224409\tvalidation_1-logloss:0.500962\n",
      "[65]\tvalidation_0-error:0.126459\tvalidation_0-logloss:0.307393\tvalidation_1-error:0.224409\tvalidation_1-logloss:0.502172\n",
      "[66]\tvalidation_0-error:0.122568\tvalidation_0-logloss:0.305181\tvalidation_1-error:0.220472\tvalidation_1-logloss:0.501892\n",
      "[67]\tvalidation_0-error:0.122568\tvalidation_0-logloss:0.303725\tvalidation_1-error:0.216535\tvalidation_1-logloss:0.502023\n"
     ]
    },
    {
     "name": "stdout",
     "output_type": "stream",
     "text": [
      "[68]\tvalidation_0-error:0.118677\tvalidation_0-logloss:0.302821\tvalidation_1-error:0.216535\tvalidation_1-logloss:0.503108\n",
      "[69]\tvalidation_0-error:0.120623\tvalidation_0-logloss:0.30198\tvalidation_1-error:0.216535\tvalidation_1-logloss:0.502674\n",
      "[70]\tvalidation_0-error:0.120623\tvalidation_0-logloss:0.29991\tvalidation_1-error:0.216535\tvalidation_1-logloss:0.502662\n",
      "[71]\tvalidation_0-error:0.122568\tvalidation_0-logloss:0.298055\tvalidation_1-error:0.216535\tvalidation_1-logloss:0.50343\n",
      "[72]\tvalidation_0-error:0.120623\tvalidation_0-logloss:0.296987\tvalidation_1-error:0.216535\tvalidation_1-logloss:0.504037\n",
      "[73]\tvalidation_0-error:0.120623\tvalidation_0-logloss:0.295123\tvalidation_1-error:0.216535\tvalidation_1-logloss:0.504439\n",
      "[74]\tvalidation_0-error:0.118677\tvalidation_0-logloss:0.294368\tvalidation_1-error:0.216535\tvalidation_1-logloss:0.503696\n",
      "[75]\tvalidation_0-error:0.118677\tvalidation_0-logloss:0.293513\tvalidation_1-error:0.216535\tvalidation_1-logloss:0.504477\n",
      "[76]\tvalidation_0-error:0.116732\tvalidation_0-logloss:0.292825\tvalidation_1-error:0.216535\tvalidation_1-logloss:0.504245\n",
      "[77]\tvalidation_0-error:0.116732\tvalidation_0-logloss:0.290549\tvalidation_1-error:0.216535\tvalidation_1-logloss:0.504356\n",
      "[78]\tvalidation_0-error:0.114786\tvalidation_0-logloss:0.288623\tvalidation_1-error:0.216535\tvalidation_1-logloss:0.505392\n",
      "[79]\tvalidation_0-error:0.114786\tvalidation_0-logloss:0.286707\tvalidation_1-error:0.212598\tvalidation_1-logloss:0.505377\n",
      "[80]\tvalidation_0-error:0.114786\tvalidation_0-logloss:0.285468\tvalidation_1-error:0.212598\tvalidation_1-logloss:0.505835\n",
      "[81]\tvalidation_0-error:0.11284\tvalidation_0-logloss:0.284848\tvalidation_1-error:0.212598\tvalidation_1-logloss:0.505566\n",
      "[82]\tvalidation_0-error:0.110895\tvalidation_0-logloss:0.282342\tvalidation_1-error:0.212598\tvalidation_1-logloss:0.507154\n",
      "[83]\tvalidation_0-error:0.11284\tvalidation_0-logloss:0.27989\tvalidation_1-error:0.212598\tvalidation_1-logloss:0.507149\n",
      "[84]\tvalidation_0-error:0.110895\tvalidation_0-logloss:0.278918\tvalidation_1-error:0.208661\tvalidation_1-logloss:0.507921\n",
      "[85]\tvalidation_0-error:0.105058\tvalidation_0-logloss:0.277478\tvalidation_1-error:0.204724\tvalidation_1-logloss:0.509487\n",
      "[86]\tvalidation_0-error:0.103113\tvalidation_0-logloss:0.275833\tvalidation_1-error:0.212598\tvalidation_1-logloss:0.509011\n",
      "[87]\tvalidation_0-error:0.103113\tvalidation_0-logloss:0.275339\tvalidation_1-error:0.212598\tvalidation_1-logloss:0.509105\n",
      "[88]\tvalidation_0-error:0.101167\tvalidation_0-logloss:0.273798\tvalidation_1-error:0.212598\tvalidation_1-logloss:0.510977\n",
      "[89]\tvalidation_0-error:0.105058\tvalidation_0-logloss:0.273078\tvalidation_1-error:0.204724\tvalidation_1-logloss:0.512553\n",
      "[90]\tvalidation_0-error:0.105058\tvalidation_0-logloss:0.272368\tvalidation_1-error:0.208661\tvalidation_1-logloss:0.513818\n",
      "[91]\tvalidation_0-error:0.105058\tvalidation_0-logloss:0.271264\tvalidation_1-error:0.208661\tvalidation_1-logloss:0.513864\n",
      "[92]\tvalidation_0-error:0.103113\tvalidation_0-logloss:0.269753\tvalidation_1-error:0.208661\tvalidation_1-logloss:0.514177\n",
      "[93]\tvalidation_0-error:0.103113\tvalidation_0-logloss:0.269307\tvalidation_1-error:0.208661\tvalidation_1-logloss:0.514497\n",
      "[94]\tvalidation_0-error:0.101167\tvalidation_0-logloss:0.268809\tvalidation_1-error:0.208661\tvalidation_1-logloss:0.513991\n",
      "[95]\tvalidation_0-error:0.101167\tvalidation_0-logloss:0.268196\tvalidation_1-error:0.212598\tvalidation_1-logloss:0.514902\n",
      "[96]\tvalidation_0-error:0.095331\tvalidation_0-logloss:0.266979\tvalidation_1-error:0.204724\tvalidation_1-logloss:0.51644\n",
      "[97]\tvalidation_0-error:0.095331\tvalidation_0-logloss:0.265722\tvalidation_1-error:0.212598\tvalidation_1-logloss:0.516317\n",
      "[98]\tvalidation_0-error:0.097276\tvalidation_0-logloss:0.26507\tvalidation_1-error:0.216535\tvalidation_1-logloss:0.517809\n",
      "[99]\tvalidation_0-error:0.097276\tvalidation_0-logloss:0.264441\tvalidation_1-error:0.220472\tvalidation_1-logloss:0.518922\n"
     ]
    },
    {
     "data": {
      "text/plain": [
       "XGBClassifier()"
      ]
     },
     "execution_count": 71,
     "metadata": {},
     "output_type": "execute_result"
    }
   ],
   "source": [
    "cancer_model_2.fit(X_train, y_train, eval_metric=['error', 'logloss'], eval_set=eval_set, verbose=True)"
   ]
  },
  {
   "cell_type": "code",
   "execution_count": 72,
   "metadata": {},
   "outputs": [],
   "source": [
    "results = cancer_model_2.evals_result()"
   ]
  },
  {
   "cell_type": "code",
   "execution_count": 73,
   "metadata": {},
   "outputs": [
    {
     "data": {
      "text/plain": [
       "{'validation_0': {'error': [0.22179,\n",
       "   0.202335,\n",
       "   0.196498,\n",
       "   0.200389,\n",
       "   0.202335,\n",
       "   0.202335,\n",
       "   0.194553,\n",
       "   0.200389,\n",
       "   0.194553,\n",
       "   0.188716,\n",
       "   0.184825,\n",
       "   0.180934,\n",
       "   0.177043,\n",
       "   0.178988,\n",
       "   0.177043,\n",
       "   0.175097,\n",
       "   0.173152,\n",
       "   0.173152,\n",
       "   0.173152,\n",
       "   0.173152,\n",
       "   0.167315,\n",
       "   0.169261,\n",
       "   0.171206,\n",
       "   0.173152,\n",
       "   0.177043,\n",
       "   0.173152,\n",
       "   0.177043,\n",
       "   0.177043,\n",
       "   0.177043,\n",
       "   0.175097,\n",
       "   0.175097,\n",
       "   0.177043,\n",
       "   0.178988,\n",
       "   0.175097,\n",
       "   0.171206,\n",
       "   0.16537,\n",
       "   0.177043,\n",
       "   0.163424,\n",
       "   0.169261,\n",
       "   0.167315,\n",
       "   0.16537,\n",
       "   0.167315,\n",
       "   0.159533,\n",
       "   0.155642,\n",
       "   0.151751,\n",
       "   0.149805,\n",
       "   0.145914,\n",
       "   0.143969,\n",
       "   0.143969,\n",
       "   0.142023,\n",
       "   0.136187,\n",
       "   0.138132,\n",
       "   0.138132,\n",
       "   0.138132,\n",
       "   0.132296,\n",
       "   0.136187,\n",
       "   0.134241,\n",
       "   0.13035,\n",
       "   0.13035,\n",
       "   0.13035,\n",
       "   0.128405,\n",
       "   0.128405,\n",
       "   0.126459,\n",
       "   0.126459,\n",
       "   0.126459,\n",
       "   0.126459,\n",
       "   0.122568,\n",
       "   0.122568,\n",
       "   0.118677,\n",
       "   0.120623,\n",
       "   0.120623,\n",
       "   0.122568,\n",
       "   0.120623,\n",
       "   0.120623,\n",
       "   0.118677,\n",
       "   0.118677,\n",
       "   0.116732,\n",
       "   0.116732,\n",
       "   0.114786,\n",
       "   0.114786,\n",
       "   0.114786,\n",
       "   0.11284,\n",
       "   0.110895,\n",
       "   0.11284,\n",
       "   0.110895,\n",
       "   0.105058,\n",
       "   0.103113,\n",
       "   0.103113,\n",
       "   0.101167,\n",
       "   0.105058,\n",
       "   0.105058,\n",
       "   0.105058,\n",
       "   0.103113,\n",
       "   0.103113,\n",
       "   0.101167,\n",
       "   0.101167,\n",
       "   0.095331,\n",
       "   0.095331,\n",
       "   0.097276,\n",
       "   0.097276],\n",
       "  'logloss': [0.655153,\n",
       "   0.623322,\n",
       "   0.596814,\n",
       "   0.574027,\n",
       "   0.553853,\n",
       "   0.536789,\n",
       "   0.521477,\n",
       "   0.507802,\n",
       "   0.495257,\n",
       "   0.484235,\n",
       "   0.474463,\n",
       "   0.465102,\n",
       "   0.457304,\n",
       "   0.44952,\n",
       "   0.442121,\n",
       "   0.435904,\n",
       "   0.430177,\n",
       "   0.425058,\n",
       "   0.419677,\n",
       "   0.415222,\n",
       "   0.410329,\n",
       "   0.405705,\n",
       "   0.402225,\n",
       "   0.398076,\n",
       "   0.395054,\n",
       "   0.392106,\n",
       "   0.389044,\n",
       "   0.385267,\n",
       "   0.382761,\n",
       "   0.380311,\n",
       "   0.376631,\n",
       "   0.374024,\n",
       "   0.371973,\n",
       "   0.369996,\n",
       "   0.36738,\n",
       "   0.363693,\n",
       "   0.362079,\n",
       "   0.35992,\n",
       "   0.357945,\n",
       "   0.355859,\n",
       "   0.352872,\n",
       "   0.351036,\n",
       "   0.349321,\n",
       "   0.346132,\n",
       "   0.343088,\n",
       "   0.340633,\n",
       "   0.339085,\n",
       "   0.336401,\n",
       "   0.33483,\n",
       "   0.331806,\n",
       "   0.329741,\n",
       "   0.328944,\n",
       "   0.327021,\n",
       "   0.324874,\n",
       "   0.323564,\n",
       "   0.321531,\n",
       "   0.320381,\n",
       "   0.318469,\n",
       "   0.317531,\n",
       "   0.315915,\n",
       "   0.313413,\n",
       "   0.312326,\n",
       "   0.310292,\n",
       "   0.309323,\n",
       "   0.308336,\n",
       "   0.307393,\n",
       "   0.305181,\n",
       "   0.303725,\n",
       "   0.302821,\n",
       "   0.30198,\n",
       "   0.29991,\n",
       "   0.298055,\n",
       "   0.296987,\n",
       "   0.295123,\n",
       "   0.294368,\n",
       "   0.293513,\n",
       "   0.292825,\n",
       "   0.290549,\n",
       "   0.288623,\n",
       "   0.286707,\n",
       "   0.285468,\n",
       "   0.284848,\n",
       "   0.282342,\n",
       "   0.27989,\n",
       "   0.278918,\n",
       "   0.277478,\n",
       "   0.275833,\n",
       "   0.275339,\n",
       "   0.273798,\n",
       "   0.273078,\n",
       "   0.272368,\n",
       "   0.271264,\n",
       "   0.269753,\n",
       "   0.269307,\n",
       "   0.268809,\n",
       "   0.268196,\n",
       "   0.266979,\n",
       "   0.265722,\n",
       "   0.26507,\n",
       "   0.264441]},\n",
       " 'validation_1': {'error': [0.259843,\n",
       "   0.26378,\n",
       "   0.26378,\n",
       "   0.255906,\n",
       "   0.255906,\n",
       "   0.26378,\n",
       "   0.23622,\n",
       "   0.255906,\n",
       "   0.248031,\n",
       "   0.248031,\n",
       "   0.248031,\n",
       "   0.232283,\n",
       "   0.228346,\n",
       "   0.228346,\n",
       "   0.228346,\n",
       "   0.228346,\n",
       "   0.228346,\n",
       "   0.228346,\n",
       "   0.224409,\n",
       "   0.232283,\n",
       "   0.232283,\n",
       "   0.23622,\n",
       "   0.23622,\n",
       "   0.232283,\n",
       "   0.228346,\n",
       "   0.228346,\n",
       "   0.224409,\n",
       "   0.224409,\n",
       "   0.228346,\n",
       "   0.232283,\n",
       "   0.228346,\n",
       "   0.224409,\n",
       "   0.224409,\n",
       "   0.228346,\n",
       "   0.228346,\n",
       "   0.224409,\n",
       "   0.228346,\n",
       "   0.224409,\n",
       "   0.216535,\n",
       "   0.220472,\n",
       "   0.216535,\n",
       "   0.216535,\n",
       "   0.216535,\n",
       "   0.216535,\n",
       "   0.212598,\n",
       "   0.224409,\n",
       "   0.224409,\n",
       "   0.220472,\n",
       "   0.224409,\n",
       "   0.232283,\n",
       "   0.228346,\n",
       "   0.224409,\n",
       "   0.224409,\n",
       "   0.232283,\n",
       "   0.228346,\n",
       "   0.228346,\n",
       "   0.224409,\n",
       "   0.224409,\n",
       "   0.224409,\n",
       "   0.224409,\n",
       "   0.224409,\n",
       "   0.224409,\n",
       "   0.224409,\n",
       "   0.224409,\n",
       "   0.224409,\n",
       "   0.224409,\n",
       "   0.220472,\n",
       "   0.216535,\n",
       "   0.216535,\n",
       "   0.216535,\n",
       "   0.216535,\n",
       "   0.216535,\n",
       "   0.216535,\n",
       "   0.216535,\n",
       "   0.216535,\n",
       "   0.216535,\n",
       "   0.216535,\n",
       "   0.216535,\n",
       "   0.216535,\n",
       "   0.212598,\n",
       "   0.212598,\n",
       "   0.212598,\n",
       "   0.212598,\n",
       "   0.212598,\n",
       "   0.208661,\n",
       "   0.204724,\n",
       "   0.212598,\n",
       "   0.212598,\n",
       "   0.212598,\n",
       "   0.204724,\n",
       "   0.208661,\n",
       "   0.208661,\n",
       "   0.208661,\n",
       "   0.208661,\n",
       "   0.208661,\n",
       "   0.212598,\n",
       "   0.204724,\n",
       "   0.212598,\n",
       "   0.216535,\n",
       "   0.220472],\n",
       "  'logloss': [0.660186,\n",
       "   0.634854,\n",
       "   0.61224,\n",
       "   0.593118,\n",
       "   0.578303,\n",
       "   0.564942,\n",
       "   0.555113,\n",
       "   0.54499,\n",
       "   0.539151,\n",
       "   0.531819,\n",
       "   0.526065,\n",
       "   0.519769,\n",
       "   0.514979,\n",
       "   0.50927,\n",
       "   0.506086,\n",
       "   0.503565,\n",
       "   0.503591,\n",
       "   0.500805,\n",
       "   0.497605,\n",
       "   0.495328,\n",
       "   0.494777,\n",
       "   0.494274,\n",
       "   0.493333,\n",
       "   0.492211,\n",
       "   0.491936,\n",
       "   0.490578,\n",
       "   0.490895,\n",
       "   0.490646,\n",
       "   0.491911,\n",
       "   0.491407,\n",
       "   0.488828,\n",
       "   0.487867,\n",
       "   0.487297,\n",
       "   0.487562,\n",
       "   0.487789,\n",
       "   0.487962,\n",
       "   0.488218,\n",
       "   0.489582,\n",
       "   0.489334,\n",
       "   0.490968,\n",
       "   0.48978,\n",
       "   0.490704,\n",
       "   0.492369,\n",
       "   0.492247,\n",
       "   0.492908,\n",
       "   0.491999,\n",
       "   0.491278,\n",
       "   0.491611,\n",
       "   0.492568,\n",
       "   0.494289,\n",
       "   0.493236,\n",
       "   0.493717,\n",
       "   0.493996,\n",
       "   0.494553,\n",
       "   0.496089,\n",
       "   0.497547,\n",
       "   0.498491,\n",
       "   0.497816,\n",
       "   0.497638,\n",
       "   0.499368,\n",
       "   0.500054,\n",
       "   0.500986,\n",
       "   0.501629,\n",
       "   0.501099,\n",
       "   0.500962,\n",
       "   0.502172,\n",
       "   0.501892,\n",
       "   0.502023,\n",
       "   0.503108,\n",
       "   0.502674,\n",
       "   0.502662,\n",
       "   0.50343,\n",
       "   0.504037,\n",
       "   0.504439,\n",
       "   0.503696,\n",
       "   0.504477,\n",
       "   0.504245,\n",
       "   0.504356,\n",
       "   0.505392,\n",
       "   0.505377,\n",
       "   0.505835,\n",
       "   0.505566,\n",
       "   0.507154,\n",
       "   0.507149,\n",
       "   0.507921,\n",
       "   0.509487,\n",
       "   0.509011,\n",
       "   0.509105,\n",
       "   0.510977,\n",
       "   0.512553,\n",
       "   0.513818,\n",
       "   0.513864,\n",
       "   0.514177,\n",
       "   0.514497,\n",
       "   0.513991,\n",
       "   0.514902,\n",
       "   0.51644,\n",
       "   0.516317,\n",
       "   0.517809,\n",
       "   0.518922]}}"
      ]
     },
     "execution_count": 73,
     "metadata": {},
     "output_type": "execute_result"
    }
   ],
   "source": [
    "results"
   ]
  },
  {
   "cell_type": "code",
   "execution_count": 74,
   "metadata": {},
   "outputs": [],
   "source": [
    "# Now we are going to plot these error stats in order to see when does the error become uniform\n",
    "\n",
    "# According to the order of the datasets passed in the eval_set training error stats will be considered in...\n",
    "# ...in validation_0 and the test errors will be considered in validation_1\n",
    "\n",
    "epochs = len(results['validation_0']['error'])\n",
    "x_axis = range(0, epochs)"
   ]
  },
  {
   "cell_type": "code",
   "execution_count": 75,
   "metadata": {},
   "outputs": [
    {
     "data": {
      "image/png": "[encoded data removed]",
      "text/plain": [
       "<Figure size 432x288 with 1 Axes>"
      ]
     },
     "metadata": {
      "needs_background": "light"
     },
     "output_type": "display_data"
    }
   ],
   "source": [
    "# Creating the logloss plot\n",
    "\n",
    "fig, ax = plt.subplots()\n",
    "ax.plot(x_axis, results['validation_0']['logloss'], label=\"Train\")\n",
    "ax.plot(x_axis, results['validation_1']['logloss'], label=\"Test\")\n",
    "ax.legend()\n",
    "plt.ylabel('LOGLOSS')\n",
    "plt.show()"
   ]
  },
  {
   "cell_type": "code",
   "execution_count": 76,
   "metadata": {},
   "outputs": [
    {
     "data": {
      "text/plain": [
       "Text(0.5, 1.0, 'Classification Loss')"
      ]
     },
     "execution_count": 76,
     "metadata": {},
     "output_type": "execute_result"
    },
    {
     "data": {
      "image/png": "[encoded data removed]",
      "text/plain": [
       "<Figure size 432x288 with 1 Axes>"
      ]
     },
     "metadata": {
      "needs_background": "light"
     },
     "output_type": "display_data"
    }
   ],
   "source": [
    "# In the above graph we can observe that arounf 20 to 40 epochs the error is minimum.\n",
    "\n",
    "# Creating the Classification Plot\n",
    "\n",
    "fig, ax = plt.subplots()\n",
    "\n",
    "ax.plot(x_axis, results['validation_0']['error'], label=\"Train\")\n",
    "ax.plot(x_axis, results['validation_1']['error'], label=\"Test\")\n",
    "ax.legend()\n",
    "\n",
    "plt.title(\"Classification Loss\")"
   ]
  },
  {
   "cell_type": "markdown",
   "metadata": {},
   "source": [
    "### Early Stopping the XGBoost Model"
   ]
  },
  {
   "cell_type": "code",
   "execution_count": 77,
   "metadata": {},
   "outputs": [],
   "source": [
    "eval_set = [(X_test, y_test)]"
   ]
  },
  {
   "cell_type": "code",
   "execution_count": 78,
   "metadata": {
    "scrolled": true
   },
   "outputs": [
    {
     "name": "stdout",
     "output_type": "stream",
     "text": [
      "[0]\tvalidation_0-logloss:0.660186\n",
      "Will train until validation_0-logloss hasn't improved in 10 rounds.\n",
      "[1]\tvalidation_0-logloss:0.634854\n",
      "[2]\tvalidation_0-logloss:0.61224\n",
      "[3]\tvalidation_0-logloss:0.593118\n",
      "[4]\tvalidation_0-logloss:0.578303\n",
      "[5]\tvalidation_0-logloss:0.564942\n",
      "[6]\tvalidation_0-logloss:0.555113\n",
      "[7]\tvalidation_0-logloss:0.54499\n",
      "[8]\tvalidation_0-logloss:0.539151\n",
      "[9]\tvalidation_0-logloss:0.531819\n",
      "[10]\tvalidation_0-logloss:0.526065\n",
      "[11]\tvalidation_0-logloss:0.519769\n",
      "[12]\tvalidation_0-logloss:0.514979\n",
      "[13]\tvalidation_0-logloss:0.50927\n",
      "[14]\tvalidation_0-logloss:0.506086\n",
      "[15]\tvalidation_0-logloss:0.503565\n",
      "[16]\tvalidation_0-logloss:0.503591\n",
      "[17]\tvalidation_0-logloss:0.500805\n",
      "[18]\tvalidation_0-logloss:0.497605\n",
      "[19]\tvalidation_0-logloss:0.495328\n",
      "[20]\tvalidation_0-logloss:0.494777\n",
      "[21]\tvalidation_0-logloss:0.494274\n",
      "[22]\tvalidation_0-logloss:0.493333\n",
      "[23]\tvalidation_0-logloss:0.492211\n",
      "[24]\tvalidation_0-logloss:0.491936\n",
      "[25]\tvalidation_0-logloss:0.490578\n",
      "[26]\tvalidation_0-logloss:0.490895\n",
      "[27]\tvalidation_0-logloss:0.490646\n",
      "[28]\tvalidation_0-logloss:0.491911\n",
      "[29]\tvalidation_0-logloss:0.491407\n",
      "[30]\tvalidation_0-logloss:0.488828\n",
      "[31]\tvalidation_0-logloss:0.487867\n",
      "[32]\tvalidation_0-logloss:0.487297\n",
      "[33]\tvalidation_0-logloss:0.487562\n",
      "[34]\tvalidation_0-logloss:0.487789\n",
      "[35]\tvalidation_0-logloss:0.487962\n",
      "[36]\tvalidation_0-logloss:0.488218\n",
      "[37]\tvalidation_0-logloss:0.489582\n",
      "[38]\tvalidation_0-logloss:0.489334\n",
      "[39]\tvalidation_0-logloss:0.490968\n",
      "[40]\tvalidation_0-logloss:0.48978\n",
      "[41]\tvalidation_0-logloss:0.490704\n",
      "[42]\tvalidation_0-logloss:0.492369\n",
      "Stopping. Best iteration:\n",
      "[32]\tvalidation_0-logloss:0.487297\n",
      "\n"
     ]
    },
    {
     "data": {
      "text/plain": [
       "XGBClassifier()"
      ]
     },
     "execution_count": 78,
     "metadata": {},
     "output_type": "execute_result"
    }
   ],
   "source": [
    "# We need to set a window of epochs over ehich no improvement is observed\n",
    "\n",
    "cancer_model_2.fit(X_train, y_train, eval_metric='logloss', eval_set=eval_set, early_stopping_rounds=10, \n",
    "                  verbose=True)"
   ]
  },
  {
   "cell_type": "code",
   "execution_count": null,
   "metadata": {},
   "outputs": [],
   "source": []
  },
  {
   "cell_type": "code",
   "execution_count": null,
   "metadata": {},
   "outputs": [],
   "source": []
  },
  {
   "cell_type": "code",
   "execution_count": null,
   "metadata": {},
   "outputs": [],
   "source": []
  },
  {
   "cell_type": "code",
   "execution_count": null,
   "metadata": {},
   "outputs": [],
   "source": []
  },
  {
   "cell_type": "code",
   "execution_count": null,
   "metadata": {},
   "outputs": [],
   "source": []
  },
  {
   "cell_type": "code",
   "execution_count": null,
   "metadata": {},
   "outputs": [],
   "source": []
  },
  {
   "cell_type": "code",
   "execution_count": null,
   "metadata": {},
   "outputs": [],
   "source": []
  },
  {
   "cell_type": "code",
   "execution_count": null,
   "metadata": {},
   "outputs": [],
   "source": []
  },
  {
   "cell_type": "code",
   "execution_count": null,
   "metadata": {},
   "outputs": [],
   "source": []
  },
  {
   "cell_type": "code",
   "execution_count": null,
   "metadata": {},
   "outputs": [],
   "source": []
  },
  {
   "cell_type": "code",
   "execution_count": null,
   "metadata": {},
   "outputs": [],
   "source": []
  },
  {
   "cell_type": "code",
   "execution_count": null,
   "metadata": {},
   "outputs": [],
   "source": []
  },
  {
   "cell_type": "code",
   "execution_count": null,
   "metadata": {},
   "outputs": [],
   "source": []
  }
 ],
 "metadata": {
  "kernelspec": {
   "display_name": "Python 3",
   "language": "python",
   "name": "python3"
  },
  "language_info": {
   "codemirror_mode": {
    "name": "ipython",
    "version": 3
   },
   "file_extension": ".py",
   "mimetype": "text/x-python",
   "name": "python",
   "nbconvert_exporter": "python",
   "pygments_lexer": "ipython3",
   "version": "3.7.3"
  }
 },
 "nbformat": 4,
 "nbformat_minor": 2
}
